{
 "cells": [
  {
   "cell_type": "markdown",
   "metadata": {
    "colab": {},
    "colab_type": "code",
    "id": "SVk8yjZbfYMd"
   },
   "source": [
    "# Python and Omics Data Processing\n",
    "## Practice solving problems in Python and an introduction to Rosalind\n",
    "\n",
    "The workshop GitHub landing page can be found here: https://github.com/sauuyer/python-and-omics-data"
   ]
  },
  {
   "cell_type": "markdown",
   "metadata": {},
   "source": [
    "### Python Knowledge Cheatsheet\n",
    "\n",
    "* A variable is saved information or data in python. Variables are created using `=`. \n",
    "\n",
    "* This is an example showing how a numeric (integer) variable would be created in Python:\n",
    "`variable_name = 12`\n",
    "\n",
    "* 'String' here means text or character data. Strings in Python appear within quotation marks.\n",
    "\n",
    "* Note: Python is case sensitive. \n",
    "\n",
    "* This is an example of how a string variable would be created in Python: \n",
    "`another_variable_name = \"this is a string stored within a variable\"`\n",
    "\n",
    "* In order to display or \"print\" out the contents of a variable, you will need to use the print function:\n",
    "`print()`\n",
    "\n",
    "* Functions in Python perform simple or complex \"functionalities\" to objects like variables.\n",
    "\n",
    "* Methods in Python are similar to functions in that they provide functionalities. Methods and functions differ in that methods are tied to objects. \n",
    "\n",
    "* For loops in Python: you will see an example below. For more information about for loops and a simpler example, go here: https://www.w3schools.com/python/python_for_loops.asp"
   ]
  },
  {
   "cell_type": "markdown",
   "metadata": {},
   "source": [
    "### Task 1: Transcribing DNA into RNA\n",
    "An RNA string is a string formed from the alphabet containing \"A\", \"C\", \"G\", and \"U\". So what we need to do in Python is replace all occurrences in our string of data of \"T\" with \"U.\"\n",
    "\n",
    "#### Concept: How to replace characters within a string"
   ]
  },
  {
   "cell_type": "code",
   "execution_count": 6,
   "metadata": {},
   "outputs": [
    {
     "name": "stdout",
     "output_type": "stream",
     "text": [
      "cat\n",
      "gnat\n"
     ]
    }
   ],
   "source": [
    "# First create a variable containing the string you want to analyze\n",
    "animal = \"cat\"\n",
    "print(animal)\n",
    "new_animal = animal.replace(\"c\", \"gn\")\n",
    "print(new_animal)"
   ]
  },
  {
   "cell_type": "markdown",
   "metadata": {},
   "source": [
    "#### Challenge: transcribe DNA into RNA\n",
    "\n",
    "Replace all occurrences of ‘T’ in the sample dataset with ‘U’.\n",
    "\n",
    "Sample dataset (hint, make sure you create a variable containing the following ‘string’):\n",
    "\n",
    "GATGGAACTTGACTACGTAAATT\n",
    "\n",
    "Sample output:\n",
    "GAUGGAACUUGACUACGUAAAUU"
   ]
  },
  {
   "cell_type": "code",
   "execution_count": 7,
   "metadata": {},
   "outputs": [],
   "source": [
    "# Enter your challenge answer here"
   ]
  },
  {
   "cell_type": "markdown",
   "metadata": {},
   "source": [
    "### Task 2: Counting DNA nucleotides\n",
    "\n",
    "First, let's translate the task into a simpler idea. What we rally want to do is count the number of times each character in a known set of characters appears in a string.\n",
    "\n",
    "The same idea would apply if we wanted to count the number of times specified letters occur in any string. \n",
    "\n",
    "\n",
    "#### Concept: How to count characters within a string"
   ]
  },
  {
   "cell_type": "markdown",
   "metadata": {},
   "source": [
    "###### Strategy using the count method"
   ]
  },
  {
   "cell_type": "code",
   "execution_count": 8,
   "metadata": {},
   "outputs": [
    {
     "name": "stdout",
     "output_type": "stream",
     "text": [
      "answer using the count method:\n",
      "5 6\n"
     ]
    }
   ],
   "source": [
    "# First create a variable containing the string you want to analyze\n",
    "string = \"lorem ipsum dolor sit amet, consectetur adipiscing elit.\"\n",
    "\n",
    "# It is good practise to use comments that describe what your code is doing\n",
    "# Diplay the number of occurances of \"e\" and \"i\" within the string saved above\n",
    "print(\"answer using the count method:\")\n",
    "print(string.count(\"e\"), string.count(\"i\"))"
   ]
  },
  {
   "cell_type": "markdown",
   "metadata": {},
   "source": [
    "###### Strategy using a for loop and iterative counting\n",
    "\n",
    "For more information about for loops and a simpler example, go here: https://www.w3schools.com/python/python_for_loops.asp"
   ]
  },
  {
   "cell_type": "code",
   "execution_count": 8,
   "metadata": {},
   "outputs": [
    {
     "name": "stdout",
     "output_type": "stream",
     "text": [
      "answer using for loop:\n",
      "5 6\n"
     ]
    }
   ],
   "source": [
    "counti = 0\n",
    "counte = 0\n",
    "\n",
    "for character in string:\n",
    "    if character == \"i\":\n",
    "        counti = counti + 1\n",
    "    elif character == \"e\":\n",
    "        counte = counte + 1\n",
    "\n",
    "print('answer using for loop:')\n",
    "print(counte, counti)"
   ]
  },
  {
   "cell_type": "markdown",
   "metadata": {},
   "source": [
    "#### Challenge: count nucleotides within a DNA strand\n",
    "\n",
    "Count the number of occurancese of each nucleotide in the sample data provided below by returning four integers counting the respective number of times the symbols ‘A’, ‘C’, ‘G’, and ‘T’ occur in the sample DNA string\n",
    "\n",
    "Sample data (hint, make sure you create a variable containing the following ‘string’):\n",
    "AGCTTTTCATTCTGACTGCAACGGGCAATATGTCTCTGTGTGGATTAAAAAAAGAGTGTCTGATAGCAGC\n",
    "\n",
    "Sample output:\n",
    "20 12 17 21\n"
   ]
  },
  {
   "cell_type": "code",
   "execution_count": null,
   "metadata": {},
   "outputs": [],
   "source": [
    "# Enter your challenge solution here"
   ]
  },
  {
   "cell_type": "markdown",
   "metadata": {},
   "source": [
    "### Task 3: Reverse complementing a strand of DNA\n",
    "\n",
    "In DNA strings, symbols ‘A’ and ‘T’ are complements of each other, as are ‘C’ and ‘G’. The reverse complement of string is formed by reversing the symbols of the strand, then taking the complement of each symbol. Process wise, what we need to do is :\n",
    "* Reverse the order of a string.\n",
    "* Change each character to a known compliment \n",
    "        A -> T\n",
    "        T -> A\n",
    "        C -> G\n",
    "        G -> C\n",
    "        \n",
    "Side note: the order of these two steps does not matter.\n",
    "\n",
    "#### Concept: How to reverse the order of a string\n",
    "###### Strategy using a slice that steps backwards\n",
    "If you Google \"How to reverse a string in Python\", you should come \n",
    "across this guide: https://www.w3schools.com/python/python_howto_reverse_string.asp\n",
    "The slice statement `[::-1]` means start at the end of the string and end at position 0, move with the step -1, negative one, which means one step backwards."
   ]
  },
  {
   "cell_type": "code",
   "execution_count": 2,
   "metadata": {},
   "outputs": [
    {
     "name": "stdout",
     "output_type": "stream",
     "text": [
      "the quick brown fox jumped over the lazy dog\n",
      "god yzal eht revo depmuj xof nworb kciuq eht\n"
     ]
    }
   ],
   "source": [
    "string_to_be_reversed = \"the quick brown fox jumped over the lazy dog\"\n",
    "print(string_to_be_reversed)\n",
    "reversed_string = string_to_be_reversed[::-1]\n",
    "print(reversed_string)"
   ]
  },
  {
   "cell_type": "markdown",
   "metadata": {},
   "source": [
    "#### Concept: How to replace multiple known characters with other known corrisponding characters within a string\n",
    "Hint: You have seen this before in task one. However, there is a way to replace many characters in a single string in one line."
   ]
  },
  {
   "cell_type": "code",
   "execution_count": 3,
   "metadata": {},
   "outputs": [
    {
     "name": "stdout",
     "output_type": "stream",
     "text": [
      "cats-cats-cats-cats\n",
      "dogs-dogs-dogs-dogs\n"
     ]
    }
   ],
   "source": [
    "string = \"cats-cats-cats-cats\"\n",
    "print(string)\n",
    "newstring = string.replace(\"c\", \"d\").replace(\"a\", \"o\").replace(\"t\", \"g\")\n",
    "print(newstring)"
   ]
  },
  {
   "cell_type": "markdown",
   "metadata": {},
   "source": [
    "#### Mini-challenge: print the reverse order of `newstring`\n",
    "\n",
    "Sample output: sgod-sgod-sgod-sgod\n"
   ]
  },
  {
   "cell_type": "code",
   "execution_count": 4,
   "metadata": {},
   "outputs": [],
   "source": [
    "# Enter the solution for the mini-challenge here"
   ]
  },
  {
   "cell_type": "markdown",
   "metadata": {},
   "source": [
    "#### Challenge: reverse complement a strand of DNA\n",
    "\n",
    "Reverse the symbols of the strand, then take the complement of each symbol. \n",
    "\n",
    "Sample dataset: \n",
    "\n",
    "AAAACCCGGT\n",
    "\n",
    "Sample output:\n",
    "ACCGGGTTTT\n"
   ]
  },
  {
   "cell_type": "code",
   "execution_count": 5,
   "metadata": {},
   "outputs": [],
   "source": [
    "# Enter your challenge solution here"
   ]
  },
  {
   "cell_type": "markdown",
   "metadata": {},
   "source": [
    "## For more challenges like these, check out Rosalind: http://rosalind.info/about/"
   ]
  }
 ],
 "metadata": {
  "colab": {
   "authorship_tag": "ABX9TyO6snzxceLo3bz1bV047cbd",
   "name": "Python and Omics Data Workbook.ipynb",
   "provenance": []
  },
  "kernelspec": {
   "display_name": "Python 3",
   "language": "python",
   "name": "python3"
  },
  "language_info": {
   "codemirror_mode": {
    "name": "ipython",
    "version": 3
   },
   "file_extension": ".py",
   "mimetype": "text/x-python",
   "name": "python",
   "nbconvert_exporter": "python",
   "pygments_lexer": "ipython3",
   "version": "3.8.5"
  }
 },
 "nbformat": 4,
 "nbformat_minor": 1
}
