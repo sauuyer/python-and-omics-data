{
 "cells": [
  {
   "cell_type": "markdown",
   "metadata": {},
   "source": [
    "### Challenge: transcribe DNA into RNA\n",
    "Replace all occurrences of ‘T’ in the sample dataset with ‘U’.\n",
    "\n",
    "Sample dataset (hint, make sure you create a variable containing the following ‘string’):\n",
    "\n",
    "GATGGAACTTGACTACGTAAATT\n",
    "\n",
    "Sample output: GAUGGAACUUGACUACGUAAAUU"
   ]
  },
  {
   "cell_type": "code",
   "execution_count": 1,
   "metadata": {},
   "outputs": [
    {
     "name": "stdout",
     "output_type": "stream",
     "text": [
      "GAUGGAACUUGACUACGUAAAUU\n"
     ]
    }
   ],
   "source": [
    "dna = \"GATGGAACTTGACTACGTAAATT\"\n",
    "rna = dna.replace(\"T\", \"U\")\n",
    "print(rna)"
   ]
  },
  {
   "cell_type": "markdown",
   "metadata": {},
   "source": [
    "### Challenge: count nucleotides within a DNA strand\n",
    "Count the number of occurancese of each nucleotide in the sample data provided below by returning four integers counting the respective number of times the symbols ‘A’, ‘C’, ‘G’, and ‘T’ occur in the sample DNA string\n",
    "\n",
    "Sample data (hint, make sure you create a variable containing the following ‘string’): AGCTTTTCATTCTGACTGCAACGGGCAATATGTCTCTGTGTGGATTAAAAAAAGAGTGTCTGATAGCAGC\n",
    "\n",
    "Sample output: 20 12 17 21"
   ]
  },
  {
   "cell_type": "code",
   "execution_count": 5,
   "metadata": {},
   "outputs": [
    {
     "name": "stdout",
     "output_type": "stream",
     "text": [
      "20 12 17 21\n"
     ]
    }
   ],
   "source": [
    "# Using .count() method\n",
    "dna = \"AGCTTTTCATTCTGACTGCAACGGGCAATATGTCTCTGTGTGGATTAAAAAAAGAGTGTCTGATAGCAGC\"\n",
    "print(dna.count(\"A\"), dna.count(\"C\"), dna.count(\"G\"), dna.count(\"T\"))\n"
   ]
  },
  {
   "cell_type": "code",
   "execution_count": 6,
   "metadata": {},
   "outputs": [
    {
     "name": "stdout",
     "output_type": "stream",
     "text": [
      "20 12 17 21\n"
     ]
    }
   ],
   "source": [
    "# Using an iterative for loop\n",
    "countA = 0\n",
    "countC = 0\n",
    "countG = 0\n",
    "countT = 0\n",
    "\n",
    "dna = \"AGCTTTTCATTCTGACTGCAACGGGCAATATGTCTCTGTGTGGATTAAAAAAAGAGTGTCTGATAGCAGC\"\n",
    "\n",
    "for n in dna:\n",
    "    if n == \"A\":\n",
    "        countA = countA + 1\n",
    "    elif n == \"C\":\n",
    "        countC = countC + 1\n",
    "    elif n == \"G\":\n",
    "        countG = countG + 1\n",
    "    elif n == \"T\":\n",
    "        countT = countT + 1\n",
    "\n",
    "print(countA, countC, countG, countT)"
   ]
  },
  {
   "cell_type": "markdown",
   "metadata": {},
   "source": [
    "### Challenge: reverse complement a strand of DNA\n",
    "Reverse the symbols of the strand, then take the complement of each symbol.\n",
    "\n",
    "Sample dataset:\n",
    "\n",
    "AAAACCCGGT\n",
    "\n",
    "Sample output: ACCGGGTTTT"
   ]
  },
  {
   "cell_type": "code",
   "execution_count": 7,
   "metadata": {},
   "outputs": [
    {
     "name": "stdout",
     "output_type": "stream",
     "text": [
      "ACCGGGTTTT\n"
     ]
    }
   ],
   "source": [
    "dna = \"AAAACCCGGT\"\n",
    "rev_compl = dna.replace('A', 't').replace('T', 'a').replace('C', 'g').replace('G', 'c').upper()[::-1]\n",
    "print(rev_compl)"
   ]
  }
 ],
 "metadata": {
  "kernelspec": {
   "display_name": "Python 3",
   "language": "python",
   "name": "python3"
  },
  "language_info": {
   "codemirror_mode": {
    "name": "ipython",
    "version": 3
   },
   "file_extension": ".py",
   "mimetype": "text/x-python",
   "name": "python",
   "nbconvert_exporter": "python",
   "pygments_lexer": "ipython3",
   "version": "3.8.5"
  }
 },
 "nbformat": 4,
 "nbformat_minor": 4
}
